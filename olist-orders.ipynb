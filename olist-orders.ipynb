{
 "cells": [
  {
   "cell_type": "markdown",
   "source": [
    "# Imports and Configurations"
   ],
   "metadata": {}
  },
  {
   "cell_type": "code",
   "execution_count": 1,
   "source": [
    "import pandas as pd\n",
    "\n",
    "# dataset visibility\n",
    "pd.set_option('display.max_rows', 500)\n",
    "pd.set_option('display.max_columns', 500)\n"
   ],
   "outputs": [],
   "metadata": {}
  },
  {
   "cell_type": "markdown",
   "source": [
    "# Joining dataset"
   ],
   "metadata": {}
  },
  {
   "cell_type": "code",
   "execution_count": 2,
   "source": [
    "#final dataframe\n",
    "df = pd.DataFrame()"
   ],
   "outputs": [],
   "metadata": {}
  },
  {
   "cell_type": "code",
   "execution_count": 11,
   "source": [
    "# read all datasets\n",
    "\n",
    "# orders dataset\n",
    "orders = pd.read_csv('data/olist_orders_dataset.csv')\n",
    "\n",
    "# order items dataset\n",
    "items = pd.read_csv('data/olist_order_items_dataset.csv')\n",
    "\n",
    "# sellers dataset\n",
    "sellers = pd.read_csv('data/olist_sellers_dataset.csv')\n",
    "\n",
    "# sellers dataset\n",
    "customers = pd.read_csv('data/olist_customers_dataset.csv')\n",
    "\n",
    "# reviews dataset\n",
    "reviews = pd.read_csv('data/olist_order_reviews_dataset.csv')\n",
    "\n",
    "# products dataset\n",
    "products = pd.read_csv('data/olist_products_dataset.csv')\n",
    "\n",
    "# sellers dataset\n",
    "payments = pd.read_csv('data/olist_order_payments_dataset.csv')\n",
    "\n",
    "# categories dataset\n",
    "categories = pd.read_csv('data/product_category_name_translation.csv')"
   ],
   "outputs": [
    {
     "output_type": "execute_result",
     "data": {
      "text/plain": [
       "0                    sao-paulo\n",
       "1                    sao-paulo\n",
       "3                    sao-paulo\n",
       "4                    sao-paulo\n",
       "5                    sao-paulo\n",
       "                  ...         \n",
       "999774            vila-langaro\n",
       "999780                 ciriaco\n",
       "999786        floriano-peixoto\n",
       "999803                erebango\n",
       "999846    santa-cecilia-do-sul\n",
       "Name: geolocation_city, Length: 19555, dtype: object"
      ]
     },
     "metadata": {},
     "execution_count": 11
    }
   ],
   "metadata": {}
  },
  {
   "cell_type": "code",
   "execution_count": null,
   "source": [
    "df = orders\n",
    "\n",
    "df = df.merge(customers, on='customer_id', how='left')\n",
    "df = df.merge(payments, on='order_id', how='left')\n",
    "df = df.merge(reviews, on='order_id', how='left')\n",
    "\n",
    "df = df.merge(items, on='order_id', how='left')\n",
    "df = df.merge(sellers, on='seller_id', how='left')\n",
    "df = df.merge(products, on='product_id', how='left')\n",
    "df = df.merge(categories, on='product_category_name', how='left')\n",
    "\n",
    "df.head()"
   ],
   "outputs": [],
   "metadata": {}
  },
  {
   "cell_type": "code",
   "execution_count": null,
   "source": [
    "df.to_csv('data/merged_dataset.csv')"
   ],
   "outputs": [],
   "metadata": {}
  }
 ],
 "metadata": {
  "orig_nbformat": 4,
  "language_info": {
   "name": "python"
  }
 },
 "nbformat": 4,
 "nbformat_minor": 2
}